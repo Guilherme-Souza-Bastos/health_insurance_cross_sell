{
 "cells": [
  {
   "cell_type": "markdown",
   "id": "13b352f3",
   "metadata": {},
   "source": [
    "# 0. IMPORTS\n",
    "\n",
    "Imports of essencial python libraries, the dataset and helper functions"
   ]
  },
  {
   "cell_type": "markdown",
   "id": "eaa18134",
   "metadata": {},
   "source": [
    "## 0.1. Python Libraries"
   ]
  },
  {
   "cell_type": "code",
   "execution_count": 1,
   "id": "7d62e893",
   "metadata": {
    "ExecuteTime": {
     "end_time": "2023-03-31T22:35:54.287513Z",
     "start_time": "2023-03-31T22:35:52.822361Z"
    }
   },
   "outputs": [],
   "source": [
    "import inflection\n",
    "\n",
    "import pandas     as pd\n",
    "import numpy      as np\n",
    "import seaborn    as sns\n",
    "sns.set_style('darkgrid')\n",
    "import scikitplot as skplt\n",
    "\n",
    "from matplotlib        import pyplot          as plt\n",
    "from matplotlib.pyplot import figure\n",
    "from sklearn           import preprocessing   as pp\n",
    "from sklearn           import model_selection as ms\n",
    "from sklearn           import ensemble        as en\n",
    "from sklearn           import neighbors       as nh\n",
    "from sklearn           import linear_model    as lm"
   ]
  },
  {
   "cell_type": "markdown",
   "id": "39daa6ce",
   "metadata": {},
   "source": [
    "## 0.2. Loading the [Dataset](https://www.kaggle.com/datasets/anmolkumar/health-insurance-cross-sell-prediction?select=test.csv)"
   ]
  },
  {
   "cell_type": "code",
   "execution_count": 2,
   "id": "d338b6dd",
   "metadata": {
    "ExecuteTime": {
     "end_time": "2023-03-31T22:35:55.121825Z",
     "start_time": "2023-03-31T22:35:54.661908Z"
    }
   },
   "outputs": [
    {
     "data": {
      "text/html": [
       "<div>\n",
       "<style scoped>\n",
       "    .dataframe tbody tr th:only-of-type {\n",
       "        vertical-align: middle;\n",
       "    }\n",
       "\n",
       "    .dataframe tbody tr th {\n",
       "        vertical-align: top;\n",
       "    }\n",
       "\n",
       "    .dataframe thead th {\n",
       "        text-align: right;\n",
       "    }\n",
       "</style>\n",
       "<table border=\"1\" class=\"dataframe\">\n",
       "  <thead>\n",
       "    <tr style=\"text-align: right;\">\n",
       "      <th></th>\n",
       "      <th>id</th>\n",
       "      <th>Gender</th>\n",
       "      <th>Age</th>\n",
       "      <th>Driving_License</th>\n",
       "      <th>Region_Code</th>\n",
       "      <th>Previously_Insured</th>\n",
       "      <th>Vehicle_Age</th>\n",
       "      <th>Vehicle_Damage</th>\n",
       "      <th>Annual_Premium</th>\n",
       "      <th>Policy_Sales_Channel</th>\n",
       "      <th>Vintage</th>\n",
       "      <th>Response</th>\n",
       "    </tr>\n",
       "  </thead>\n",
       "  <tbody>\n",
       "    <tr>\n",
       "      <th>0</th>\n",
       "      <td>1</td>\n",
       "      <td>Male</td>\n",
       "      <td>44</td>\n",
       "      <td>1</td>\n",
       "      <td>28.0</td>\n",
       "      <td>0</td>\n",
       "      <td>&gt; 2 Years</td>\n",
       "      <td>Yes</td>\n",
       "      <td>40454.0</td>\n",
       "      <td>26.0</td>\n",
       "      <td>217</td>\n",
       "      <td>1</td>\n",
       "    </tr>\n",
       "    <tr>\n",
       "      <th>1</th>\n",
       "      <td>2</td>\n",
       "      <td>Male</td>\n",
       "      <td>76</td>\n",
       "      <td>1</td>\n",
       "      <td>3.0</td>\n",
       "      <td>0</td>\n",
       "      <td>1-2 Year</td>\n",
       "      <td>No</td>\n",
       "      <td>33536.0</td>\n",
       "      <td>26.0</td>\n",
       "      <td>183</td>\n",
       "      <td>0</td>\n",
       "    </tr>\n",
       "    <tr>\n",
       "      <th>2</th>\n",
       "      <td>3</td>\n",
       "      <td>Male</td>\n",
       "      <td>47</td>\n",
       "      <td>1</td>\n",
       "      <td>28.0</td>\n",
       "      <td>0</td>\n",
       "      <td>&gt; 2 Years</td>\n",
       "      <td>Yes</td>\n",
       "      <td>38294.0</td>\n",
       "      <td>26.0</td>\n",
       "      <td>27</td>\n",
       "      <td>1</td>\n",
       "    </tr>\n",
       "    <tr>\n",
       "      <th>3</th>\n",
       "      <td>4</td>\n",
       "      <td>Male</td>\n",
       "      <td>21</td>\n",
       "      <td>1</td>\n",
       "      <td>11.0</td>\n",
       "      <td>1</td>\n",
       "      <td>&lt; 1 Year</td>\n",
       "      <td>No</td>\n",
       "      <td>28619.0</td>\n",
       "      <td>152.0</td>\n",
       "      <td>203</td>\n",
       "      <td>0</td>\n",
       "    </tr>\n",
       "    <tr>\n",
       "      <th>4</th>\n",
       "      <td>5</td>\n",
       "      <td>Female</td>\n",
       "      <td>29</td>\n",
       "      <td>1</td>\n",
       "      <td>41.0</td>\n",
       "      <td>1</td>\n",
       "      <td>&lt; 1 Year</td>\n",
       "      <td>No</td>\n",
       "      <td>27496.0</td>\n",
       "      <td>152.0</td>\n",
       "      <td>39</td>\n",
       "      <td>0</td>\n",
       "    </tr>\n",
       "  </tbody>\n",
       "</table>\n",
       "</div>"
      ],
      "text/plain": [
       "   id  Gender  Age  Driving_License  Region_Code  Previously_Insured  \\\n",
       "0   1    Male   44                1         28.0                   0   \n",
       "1   2    Male   76                1          3.0                   0   \n",
       "2   3    Male   47                1         28.0                   0   \n",
       "3   4    Male   21                1         11.0                   1   \n",
       "4   5  Female   29                1         41.0                   1   \n",
       "\n",
       "  Vehicle_Age Vehicle_Damage  Annual_Premium  Policy_Sales_Channel  Vintage  \\\n",
       "0   > 2 Years            Yes         40454.0                  26.0      217   \n",
       "1    1-2 Year             No         33536.0                  26.0      183   \n",
       "2   > 2 Years            Yes         38294.0                  26.0       27   \n",
       "3    < 1 Year             No         28619.0                 152.0      203   \n",
       "4    < 1 Year             No         27496.0                 152.0       39   \n",
       "\n",
       "   Response  \n",
       "0         1  \n",
       "1         0  \n",
       "2         1  \n",
       "3         0  \n",
       "4         0  "
      ]
     },
     "execution_count": 2,
     "metadata": {},
     "output_type": "execute_result"
    }
   ],
   "source": [
    "df_raw = pd.read_csv('dataset/train.csv')\n",
    "df_raw.head()"
   ]
  },
  {
   "cell_type": "markdown",
   "id": "9ce0627f",
   "metadata": {},
   "source": [
    "# 1. DATA DESCRIPTION\n",
    "\n",
    "This section contains relavant informations about the dataset."
   ]
  },
  {
   "cell_type": "code",
   "execution_count": 3,
   "id": "cfd38b88",
   "metadata": {
    "ExecuteTime": {
     "end_time": "2023-03-31T22:36:00.348220Z",
     "start_time": "2023-03-31T22:36:00.335219Z"
    }
   },
   "outputs": [],
   "source": [
    "df1 = df_raw.copy()"
   ]
  },
  {
   "cell_type": "code",
   "execution_count": 5,
   "id": "c54247dc",
   "metadata": {
    "ExecuteTime": {
     "end_time": "2023-03-31T22:36:42.076547Z",
     "start_time": "2023-03-31T22:36:42.072546Z"
    }
   },
   "outputs": [],
   "source": [
    "cols_old = ['id', 'Gender', 'Age', 'Driving_License', 'Region_Code',\n",
    "            'Previously_Insured', 'Vehicle_Age', 'Vehicle_Damage', 'Annual_Premium',\n",
    "            'Policy_Sales_Channel', 'Vintage', 'Response']\n",
    "\n",
    "snakecase = lambda x: inflection.underscore( x )\n",
    "\n",
    "cols_new = list( map( snakecase, cols_old ) )\n",
    "\n",
    "df1.columns = cols_new"
   ]
  },
  {
   "cell_type": "markdown",
   "id": "e9771afd",
   "metadata": {},
   "source": [
    "## 1.1. Data Preview"
   ]
  },
  {
   "cell_type": "code",
   "execution_count": 6,
   "id": "b894fb7c",
   "metadata": {
    "ExecuteTime": {
     "end_time": "2023-03-31T22:36:44.148745Z",
     "start_time": "2023-03-31T22:36:44.124739Z"
    }
   },
   "outputs": [
    {
     "data": {
      "text/html": [
       "<div>\n",
       "<style scoped>\n",
       "    .dataframe tbody tr th:only-of-type {\n",
       "        vertical-align: middle;\n",
       "    }\n",
       "\n",
       "    .dataframe tbody tr th {\n",
       "        vertical-align: top;\n",
       "    }\n",
       "\n",
       "    .dataframe thead th {\n",
       "        text-align: right;\n",
       "    }\n",
       "</style>\n",
       "<table border=\"1\" class=\"dataframe\">\n",
       "  <thead>\n",
       "    <tr style=\"text-align: right;\">\n",
       "      <th></th>\n",
       "      <th>id</th>\n",
       "      <th>gender</th>\n",
       "      <th>age</th>\n",
       "      <th>driving_license</th>\n",
       "      <th>region_code</th>\n",
       "      <th>previously_insured</th>\n",
       "      <th>vehicle_age</th>\n",
       "      <th>vehicle_damage</th>\n",
       "      <th>annual_premium</th>\n",
       "      <th>policy_sales_channel</th>\n",
       "      <th>vintage</th>\n",
       "      <th>response</th>\n",
       "    </tr>\n",
       "  </thead>\n",
       "  <tbody>\n",
       "    <tr>\n",
       "      <th>0</th>\n",
       "      <td>1</td>\n",
       "      <td>Male</td>\n",
       "      <td>44</td>\n",
       "      <td>1</td>\n",
       "      <td>28.0</td>\n",
       "      <td>0</td>\n",
       "      <td>&gt; 2 Years</td>\n",
       "      <td>Yes</td>\n",
       "      <td>40454.0</td>\n",
       "      <td>26.0</td>\n",
       "      <td>217</td>\n",
       "      <td>1</td>\n",
       "    </tr>\n",
       "    <tr>\n",
       "      <th>1</th>\n",
       "      <td>2</td>\n",
       "      <td>Male</td>\n",
       "      <td>76</td>\n",
       "      <td>1</td>\n",
       "      <td>3.0</td>\n",
       "      <td>0</td>\n",
       "      <td>1-2 Year</td>\n",
       "      <td>No</td>\n",
       "      <td>33536.0</td>\n",
       "      <td>26.0</td>\n",
       "      <td>183</td>\n",
       "      <td>0</td>\n",
       "    </tr>\n",
       "    <tr>\n",
       "      <th>2</th>\n",
       "      <td>3</td>\n",
       "      <td>Male</td>\n",
       "      <td>47</td>\n",
       "      <td>1</td>\n",
       "      <td>28.0</td>\n",
       "      <td>0</td>\n",
       "      <td>&gt; 2 Years</td>\n",
       "      <td>Yes</td>\n",
       "      <td>38294.0</td>\n",
       "      <td>26.0</td>\n",
       "      <td>27</td>\n",
       "      <td>1</td>\n",
       "    </tr>\n",
       "    <tr>\n",
       "      <th>3</th>\n",
       "      <td>4</td>\n",
       "      <td>Male</td>\n",
       "      <td>21</td>\n",
       "      <td>1</td>\n",
       "      <td>11.0</td>\n",
       "      <td>1</td>\n",
       "      <td>&lt; 1 Year</td>\n",
       "      <td>No</td>\n",
       "      <td>28619.0</td>\n",
       "      <td>152.0</td>\n",
       "      <td>203</td>\n",
       "      <td>0</td>\n",
       "    </tr>\n",
       "    <tr>\n",
       "      <th>4</th>\n",
       "      <td>5</td>\n",
       "      <td>Female</td>\n",
       "      <td>29</td>\n",
       "      <td>1</td>\n",
       "      <td>41.0</td>\n",
       "      <td>1</td>\n",
       "      <td>&lt; 1 Year</td>\n",
       "      <td>No</td>\n",
       "      <td>27496.0</td>\n",
       "      <td>152.0</td>\n",
       "      <td>39</td>\n",
       "      <td>0</td>\n",
       "    </tr>\n",
       "  </tbody>\n",
       "</table>\n",
       "</div>"
      ],
      "text/plain": [
       "   id  gender  age  driving_license  region_code  previously_insured  \\\n",
       "0   1    Male   44                1         28.0                   0   \n",
       "1   2    Male   76                1          3.0                   0   \n",
       "2   3    Male   47                1         28.0                   0   \n",
       "3   4    Male   21                1         11.0                   1   \n",
       "4   5  Female   29                1         41.0                   1   \n",
       "\n",
       "  vehicle_age vehicle_damage  annual_premium  policy_sales_channel  vintage  \\\n",
       "0   > 2 Years            Yes         40454.0                  26.0      217   \n",
       "1    1-2 Year             No         33536.0                  26.0      183   \n",
       "2   > 2 Years            Yes         38294.0                  26.0       27   \n",
       "3    < 1 Year             No         28619.0                 152.0      203   \n",
       "4    < 1 Year             No         27496.0                 152.0       39   \n",
       "\n",
       "   response  \n",
       "0         1  \n",
       "1         0  \n",
       "2         1  \n",
       "3         0  \n",
       "4         0  "
      ]
     },
     "execution_count": 6,
     "metadata": {},
     "output_type": "execute_result"
    }
   ],
   "source": [
    "df1.head()"
   ]
  },
  {
   "cell_type": "markdown",
   "id": "41c64343",
   "metadata": {},
   "source": [
    "## 1.2. Data Dimension and Data Types"
   ]
  },
  {
   "cell_type": "code",
   "execution_count": 7,
   "id": "6e025b53",
   "metadata": {
    "ExecuteTime": {
     "end_time": "2023-03-31T22:36:46.569467Z",
     "start_time": "2023-03-31T22:36:46.563466Z"
    }
   },
   "outputs": [
    {
     "name": "stdout",
     "output_type": "stream",
     "text": [
      "Number of Rows: 381109\n",
      "Number of Columns: 12\n"
     ]
    }
   ],
   "source": [
    "print( 'Number of Rows: {}'.format( df1.shape[0] ) )\n",
    "print( 'Number of Columns: {}'.format( df1.shape[1] ) )"
   ]
  },
  {
   "cell_type": "code",
   "execution_count": 8,
   "id": "86d75c23",
   "metadata": {
    "ExecuteTime": {
     "end_time": "2023-03-31T22:36:53.134014Z",
     "start_time": "2023-03-31T22:36:53.123011Z"
    }
   },
   "outputs": [
    {
     "data": {
      "text/plain": [
       "id                        int64\n",
       "gender                   object\n",
       "age                       int64\n",
       "driving_license           int64\n",
       "region_code             float64\n",
       "previously_insured        int64\n",
       "vehicle_age              object\n",
       "vehicle_damage           object\n",
       "annual_premium          float64\n",
       "policy_sales_channel    float64\n",
       "vintage                   int64\n",
       "response                  int64\n",
       "dtype: object"
      ]
     },
     "execution_count": 8,
     "metadata": {},
     "output_type": "execute_result"
    }
   ],
   "source": [
    "df1.dtypes"
   ]
  },
  {
   "cell_type": "code",
   "execution_count": 9,
   "id": "5e262d20",
   "metadata": {
    "ExecuteTime": {
     "end_time": "2023-03-31T22:36:53.448378Z",
     "start_time": "2023-03-31T22:36:53.344397Z"
    }
   },
   "outputs": [
    {
     "name": "stdout",
     "output_type": "stream",
     "text": [
      "<class 'pandas.core.frame.DataFrame'>\n",
      "RangeIndex: 381109 entries, 0 to 381108\n",
      "Data columns (total 12 columns):\n",
      " #   Column                Non-Null Count   Dtype  \n",
      "---  ------                --------------   -----  \n",
      " 0   id                    381109 non-null  int64  \n",
      " 1   gender                381109 non-null  object \n",
      " 2   age                   381109 non-null  int64  \n",
      " 3   driving_license       381109 non-null  int64  \n",
      " 4   region_code           381109 non-null  float64\n",
      " 5   previously_insured    381109 non-null  int64  \n",
      " 6   vehicle_age           381109 non-null  object \n",
      " 7   vehicle_damage        381109 non-null  object \n",
      " 8   annual_premium        381109 non-null  float64\n",
      " 9   policy_sales_channel  381109 non-null  float64\n",
      " 10  vintage               381109 non-null  int64  \n",
      " 11  response              381109 non-null  int64  \n",
      "dtypes: float64(3), int64(6), object(3)\n",
      "memory usage: 34.9+ MB\n"
     ]
    }
   ],
   "source": [
    "df1.info()"
   ]
  },
  {
   "cell_type": "markdown",
   "id": "bcdfb713",
   "metadata": {},
   "source": [
    "## 1.3. Check NA"
   ]
  },
  {
   "cell_type": "code",
   "execution_count": 10,
   "id": "a19ceaa3",
   "metadata": {
    "ExecuteTime": {
     "end_time": "2023-03-31T22:36:56.692824Z",
     "start_time": "2023-03-31T22:36:56.594804Z"
    }
   },
   "outputs": [
    {
     "data": {
      "text/plain": [
       "id                      0\n",
       "gender                  0\n",
       "age                     0\n",
       "driving_license         0\n",
       "region_code             0\n",
       "previously_insured      0\n",
       "vehicle_age             0\n",
       "vehicle_damage          0\n",
       "annual_premium          0\n",
       "policy_sales_channel    0\n",
       "vintage                 0\n",
       "response                0\n",
       "dtype: int64"
      ]
     },
     "execution_count": 10,
     "metadata": {},
     "output_type": "execute_result"
    }
   ],
   "source": [
    "df1.isna().sum()"
   ]
  },
  {
   "cell_type": "markdown",
   "id": "b20b65eb",
   "metadata": {},
   "source": [
    "## 1.4. Data Descriptive\n",
    "\n",
    "There are 2 types of data:\n",
    "\n",
    "- Numerical data: numbers\n",
    "- Categorical data: everything else"
   ]
  },
  {
   "cell_type": "code",
   "execution_count": 11,
   "id": "5458608d",
   "metadata": {
    "ExecuteTime": {
     "end_time": "2023-03-31T22:37:00.686836Z",
     "start_time": "2023-03-31T22:37:00.195443Z"
    }
   },
   "outputs": [
    {
     "data": {
      "text/html": [
       "<div>\n",
       "<style scoped>\n",
       "    .dataframe tbody tr th:only-of-type {\n",
       "        vertical-align: middle;\n",
       "    }\n",
       "\n",
       "    .dataframe tbody tr th {\n",
       "        vertical-align: top;\n",
       "    }\n",
       "\n",
       "    .dataframe thead th {\n",
       "        text-align: right;\n",
       "    }\n",
       "</style>\n",
       "<table border=\"1\" class=\"dataframe\">\n",
       "  <thead>\n",
       "    <tr style=\"text-align: right;\">\n",
       "      <th></th>\n",
       "      <th>attributes</th>\n",
       "      <th>min</th>\n",
       "      <th>max</th>\n",
       "      <th>range</th>\n",
       "      <th>mean</th>\n",
       "      <th>median</th>\n",
       "      <th>std</th>\n",
       "      <th>skew</th>\n",
       "      <th>kurtosis</th>\n",
       "    </tr>\n",
       "  </thead>\n",
       "  <tbody>\n",
       "    <tr>\n",
       "      <th>0</th>\n",
       "      <td>id</td>\n",
       "      <td>1.0</td>\n",
       "      <td>381109.0</td>\n",
       "      <td>381108.0</td>\n",
       "      <td>190555.000000</td>\n",
       "      <td>190555.0</td>\n",
       "      <td>110016.691870</td>\n",
       "      <td>9.443274e-16</td>\n",
       "      <td>-1.200000</td>\n",
       "    </tr>\n",
       "    <tr>\n",
       "      <th>1</th>\n",
       "      <td>age</td>\n",
       "      <td>20.0</td>\n",
       "      <td>85.0</td>\n",
       "      <td>65.0</td>\n",
       "      <td>38.822584</td>\n",
       "      <td>36.0</td>\n",
       "      <td>15.511591</td>\n",
       "      <td>6.725390e-01</td>\n",
       "      <td>-0.565655</td>\n",
       "    </tr>\n",
       "    <tr>\n",
       "      <th>2</th>\n",
       "      <td>driving_license</td>\n",
       "      <td>0.0</td>\n",
       "      <td>1.0</td>\n",
       "      <td>1.0</td>\n",
       "      <td>0.997869</td>\n",
       "      <td>1.0</td>\n",
       "      <td>0.046109</td>\n",
       "      <td>-2.159518e+01</td>\n",
       "      <td>464.354302</td>\n",
       "    </tr>\n",
       "    <tr>\n",
       "      <th>3</th>\n",
       "      <td>region_code</td>\n",
       "      <td>0.0</td>\n",
       "      <td>52.0</td>\n",
       "      <td>52.0</td>\n",
       "      <td>26.388807</td>\n",
       "      <td>28.0</td>\n",
       "      <td>13.229871</td>\n",
       "      <td>-1.152664e-01</td>\n",
       "      <td>-0.867857</td>\n",
       "    </tr>\n",
       "    <tr>\n",
       "      <th>4</th>\n",
       "      <td>previously_insured</td>\n",
       "      <td>0.0</td>\n",
       "      <td>1.0</td>\n",
       "      <td>1.0</td>\n",
       "      <td>0.458210</td>\n",
       "      <td>0.0</td>\n",
       "      <td>0.498251</td>\n",
       "      <td>1.677471e-01</td>\n",
       "      <td>-1.971871</td>\n",
       "    </tr>\n",
       "    <tr>\n",
       "      <th>5</th>\n",
       "      <td>annual_premium</td>\n",
       "      <td>2630.0</td>\n",
       "      <td>540165.0</td>\n",
       "      <td>537535.0</td>\n",
       "      <td>30564.389581</td>\n",
       "      <td>31669.0</td>\n",
       "      <td>17213.132474</td>\n",
       "      <td>1.766087e+00</td>\n",
       "      <td>34.004569</td>\n",
       "    </tr>\n",
       "    <tr>\n",
       "      <th>6</th>\n",
       "      <td>policy_sales_channel</td>\n",
       "      <td>1.0</td>\n",
       "      <td>163.0</td>\n",
       "      <td>162.0</td>\n",
       "      <td>112.034295</td>\n",
       "      <td>133.0</td>\n",
       "      <td>54.203924</td>\n",
       "      <td>-9.000081e-01</td>\n",
       "      <td>-0.970810</td>\n",
       "    </tr>\n",
       "    <tr>\n",
       "      <th>7</th>\n",
       "      <td>vintage</td>\n",
       "      <td>10.0</td>\n",
       "      <td>299.0</td>\n",
       "      <td>289.0</td>\n",
       "      <td>154.347397</td>\n",
       "      <td>154.0</td>\n",
       "      <td>83.671194</td>\n",
       "      <td>3.029517e-03</td>\n",
       "      <td>-1.200688</td>\n",
       "    </tr>\n",
       "    <tr>\n",
       "      <th>8</th>\n",
       "      <td>response</td>\n",
       "      <td>0.0</td>\n",
       "      <td>1.0</td>\n",
       "      <td>1.0</td>\n",
       "      <td>0.122563</td>\n",
       "      <td>0.0</td>\n",
       "      <td>0.327935</td>\n",
       "      <td>2.301906e+00</td>\n",
       "      <td>3.298788</td>\n",
       "    </tr>\n",
       "  </tbody>\n",
       "</table>\n",
       "</div>"
      ],
      "text/plain": [
       "             attributes     min       max     range           mean    median  \\\n",
       "0                    id     1.0  381109.0  381108.0  190555.000000  190555.0   \n",
       "1                   age    20.0      85.0      65.0      38.822584      36.0   \n",
       "2       driving_license     0.0       1.0       1.0       0.997869       1.0   \n",
       "3           region_code     0.0      52.0      52.0      26.388807      28.0   \n",
       "4    previously_insured     0.0       1.0       1.0       0.458210       0.0   \n",
       "5        annual_premium  2630.0  540165.0  537535.0   30564.389581   31669.0   \n",
       "6  policy_sales_channel     1.0     163.0     162.0     112.034295     133.0   \n",
       "7               vintage    10.0     299.0     289.0     154.347397     154.0   \n",
       "8              response     0.0       1.0       1.0       0.122563       0.0   \n",
       "\n",
       "             std          skew    kurtosis  \n",
       "0  110016.691870  9.443274e-16   -1.200000  \n",
       "1      15.511591  6.725390e-01   -0.565655  \n",
       "2       0.046109 -2.159518e+01  464.354302  \n",
       "3      13.229871 -1.152664e-01   -0.867857  \n",
       "4       0.498251  1.677471e-01   -1.971871  \n",
       "5   17213.132474  1.766087e+00   34.004569  \n",
       "6      54.203924 -9.000081e-01   -0.970810  \n",
       "7      83.671194  3.029517e-03   -1.200688  \n",
       "8       0.327935  2.301906e+00    3.298788  "
      ]
     },
     "execution_count": 11,
     "metadata": {},
     "output_type": "execute_result"
    }
   ],
   "source": [
    "num_attributes = df1.select_dtypes( include=['int64', 'float64'] )\n",
    "cat_attributes = df1.select_dtypes( exclude=['int64', 'float64', 'datetime64[ns]'] )\n",
    "\n",
    "# Central Tendency - mean, median\n",
    "ct1 = pd.DataFrame( num_attributes.apply( np.mean ) ).T\n",
    "ct2 = pd.DataFrame( num_attributes.apply( np.median ) ).T\n",
    "\n",
    "# Dispersion - std, min, max, range, skew, kurtosis\n",
    "d1 = pd.DataFrame( num_attributes.apply( np.std ) ).T\n",
    "d2 = pd.DataFrame( num_attributes.apply( min ) ).T\n",
    "d3 = pd.DataFrame( num_attributes.apply( max ) ).T\n",
    "d4 = pd.DataFrame( num_attributes.apply( lambda x: x.max()-x.min() ) ).T\n",
    "d5 = pd.DataFrame( num_attributes.apply( lambda x: x.skew() ) ).T\n",
    "d6 = pd.DataFrame( num_attributes.apply( lambda x: x.kurtosis() ) ).T\n",
    "\n",
    "# concatenate\n",
    "m = pd.concat( [d2, d3, d4, ct1, ct2, d1, d5, d6] ).T.reset_index()\n",
    "m.columns = ['attributes', 'min', 'max', 'range', 'mean', 'median', 'std', 'skew', 'kurtosis']\n",
    "\n",
    "m"
   ]
  },
  {
   "cell_type": "code",
   "execution_count": 12,
   "id": "f5e745f0",
   "metadata": {
    "ExecuteTime": {
     "end_time": "2023-03-31T22:37:04.519380Z",
     "start_time": "2023-03-31T22:37:04.432361Z"
    }
   },
   "outputs": [
    {
     "data": {
      "text/html": [
       "<div>\n",
       "<style scoped>\n",
       "    .dataframe tbody tr th:only-of-type {\n",
       "        vertical-align: middle;\n",
       "    }\n",
       "\n",
       "    .dataframe tbody tr th {\n",
       "        vertical-align: top;\n",
       "    }\n",
       "\n",
       "    .dataframe thead th {\n",
       "        text-align: right;\n",
       "    }\n",
       "</style>\n",
       "<table border=\"1\" class=\"dataframe\">\n",
       "  <thead>\n",
       "    <tr style=\"text-align: right;\">\n",
       "      <th></th>\n",
       "      <th>count</th>\n",
       "      <th>mean</th>\n",
       "      <th>std</th>\n",
       "      <th>min</th>\n",
       "      <th>25%</th>\n",
       "      <th>50%</th>\n",
       "      <th>75%</th>\n",
       "      <th>max</th>\n",
       "    </tr>\n",
       "  </thead>\n",
       "  <tbody>\n",
       "    <tr>\n",
       "      <th>id</th>\n",
       "      <td>381109.0</td>\n",
       "      <td>190555.00</td>\n",
       "      <td>110016.84</td>\n",
       "      <td>1.0</td>\n",
       "      <td>95278.0</td>\n",
       "      <td>190555.0</td>\n",
       "      <td>285832.0</td>\n",
       "      <td>381109.0</td>\n",
       "    </tr>\n",
       "    <tr>\n",
       "      <th>age</th>\n",
       "      <td>381109.0</td>\n",
       "      <td>38.82</td>\n",
       "      <td>15.51</td>\n",
       "      <td>20.0</td>\n",
       "      <td>25.0</td>\n",
       "      <td>36.0</td>\n",
       "      <td>49.0</td>\n",
       "      <td>85.0</td>\n",
       "    </tr>\n",
       "    <tr>\n",
       "      <th>driving_license</th>\n",
       "      <td>381109.0</td>\n",
       "      <td>1.00</td>\n",
       "      <td>0.05</td>\n",
       "      <td>0.0</td>\n",
       "      <td>1.0</td>\n",
       "      <td>1.0</td>\n",
       "      <td>1.0</td>\n",
       "      <td>1.0</td>\n",
       "    </tr>\n",
       "    <tr>\n",
       "      <th>region_code</th>\n",
       "      <td>381109.0</td>\n",
       "      <td>26.39</td>\n",
       "      <td>13.23</td>\n",
       "      <td>0.0</td>\n",
       "      <td>15.0</td>\n",
       "      <td>28.0</td>\n",
       "      <td>35.0</td>\n",
       "      <td>52.0</td>\n",
       "    </tr>\n",
       "    <tr>\n",
       "      <th>previously_insured</th>\n",
       "      <td>381109.0</td>\n",
       "      <td>0.46</td>\n",
       "      <td>0.50</td>\n",
       "      <td>0.0</td>\n",
       "      <td>0.0</td>\n",
       "      <td>0.0</td>\n",
       "      <td>1.0</td>\n",
       "      <td>1.0</td>\n",
       "    </tr>\n",
       "    <tr>\n",
       "      <th>annual_premium</th>\n",
       "      <td>381109.0</td>\n",
       "      <td>30564.39</td>\n",
       "      <td>17213.16</td>\n",
       "      <td>2630.0</td>\n",
       "      <td>24405.0</td>\n",
       "      <td>31669.0</td>\n",
       "      <td>39400.0</td>\n",
       "      <td>540165.0</td>\n",
       "    </tr>\n",
       "    <tr>\n",
       "      <th>policy_sales_channel</th>\n",
       "      <td>381109.0</td>\n",
       "      <td>112.03</td>\n",
       "      <td>54.20</td>\n",
       "      <td>1.0</td>\n",
       "      <td>29.0</td>\n",
       "      <td>133.0</td>\n",
       "      <td>152.0</td>\n",
       "      <td>163.0</td>\n",
       "    </tr>\n",
       "    <tr>\n",
       "      <th>vintage</th>\n",
       "      <td>381109.0</td>\n",
       "      <td>154.35</td>\n",
       "      <td>83.67</td>\n",
       "      <td>10.0</td>\n",
       "      <td>82.0</td>\n",
       "      <td>154.0</td>\n",
       "      <td>227.0</td>\n",
       "      <td>299.0</td>\n",
       "    </tr>\n",
       "    <tr>\n",
       "      <th>response</th>\n",
       "      <td>381109.0</td>\n",
       "      <td>0.12</td>\n",
       "      <td>0.33</td>\n",
       "      <td>0.0</td>\n",
       "      <td>0.0</td>\n",
       "      <td>0.0</td>\n",
       "      <td>0.0</td>\n",
       "      <td>1.0</td>\n",
       "    </tr>\n",
       "  </tbody>\n",
       "</table>\n",
       "</div>"
      ],
      "text/plain": [
       "                         count       mean        std     min      25%  \\\n",
       "id                    381109.0  190555.00  110016.84     1.0  95278.0   \n",
       "age                   381109.0      38.82      15.51    20.0     25.0   \n",
       "driving_license       381109.0       1.00       0.05     0.0      1.0   \n",
       "region_code           381109.0      26.39      13.23     0.0     15.0   \n",
       "previously_insured    381109.0       0.46       0.50     0.0      0.0   \n",
       "annual_premium        381109.0   30564.39   17213.16  2630.0  24405.0   \n",
       "policy_sales_channel  381109.0     112.03      54.20     1.0     29.0   \n",
       "vintage               381109.0     154.35      83.67    10.0     82.0   \n",
       "response              381109.0       0.12       0.33     0.0      0.0   \n",
       "\n",
       "                           50%       75%       max  \n",
       "id                    190555.0  285832.0  381109.0  \n",
       "age                       36.0      49.0      85.0  \n",
       "driving_license            1.0       1.0       1.0  \n",
       "region_code               28.0      35.0      52.0  \n",
       "previously_insured         0.0       1.0       1.0  \n",
       "annual_premium         31669.0   39400.0  540165.0  \n",
       "policy_sales_channel     133.0     152.0     163.0  \n",
       "vintage                  154.0     227.0     299.0  \n",
       "response                   0.0       0.0       1.0  "
      ]
     },
     "execution_count": 12,
     "metadata": {},
     "output_type": "execute_result"
    }
   ],
   "source": [
    "np.round(df1.describe().T, 2)"
   ]
  },
  {
   "cell_type": "code",
   "execution_count": 13,
   "id": "d829351a",
   "metadata": {
    "ExecuteTime": {
     "end_time": "2023-03-31T22:37:49.329000Z",
     "start_time": "2023-03-31T22:37:49.270404Z"
    }
   },
   "outputs": [
    {
     "data": {
      "text/plain": [
       "gender            2\n",
       "vehicle_age       3\n",
       "vehicle_damage    2\n",
       "dtype: int64"
      ]
     },
     "execution_count": 13,
     "metadata": {},
     "output_type": "execute_result"
    }
   ],
   "source": [
    "cat_attributes.apply( lambda x: x.unique().shape[0] )"
   ]
  },
  {
   "cell_type": "code",
   "execution_count": 14,
   "id": "48152678",
   "metadata": {
    "ExecuteTime": {
     "end_time": "2023-03-31T22:37:56.919846Z",
     "start_time": "2023-03-31T22:37:55.870766Z"
    }
   },
   "outputs": [],
   "source": [
    "df1.to_csv('dataset/df1.csv', index=False)"
   ]
  },
  {
   "cell_type": "markdown",
   "id": "7e625145",
   "metadata": {},
   "source": [
    "# 2. FEATURE ENGINEERING\n",
    "\n",
    "Feature engineering refers to manipulation ( addition, deletion, combination, mutation ) of your data set to improve machine learning model training, leading to better performance and greater accuracy.\n",
    "\n",
    "3 manipulations were done:\n",
    "1. 'vehicle_age' column modified\n",
    "2. 'vehicle_damage' column modified\n",
    "3. Division of our dataset into 3 parts: train, validation and test\n",
    "<br>\n",
    "\n",
    "\n",
    "- Training Dataset (70%): Its purpose is to train the machine learn models \n",
    "- Validation Dataset (20%): Used to adjust the hyper parameters\n",
    "- Test Dataset (10%): Evaluate how effective the models are"
   ]
  },
  {
   "cell_type": "code",
   "execution_count": 15,
   "id": "1e5accf6",
   "metadata": {
    "ExecuteTime": {
     "end_time": "2023-03-31T22:39:04.022421Z",
     "start_time": "2023-03-31T22:39:03.741358Z"
    }
   },
   "outputs": [],
   "source": [
    "df2 = pd.read_csv('dataset/df1.csv')"
   ]
  },
  {
   "cell_type": "markdown",
   "id": "7fc0a0ec",
   "metadata": {},
   "source": [
    "## 2.1. Vehicle Age"
   ]
  },
  {
   "cell_type": "code",
   "execution_count": 16,
   "id": "16385147",
   "metadata": {
    "ExecuteTime": {
     "end_time": "2023-03-31T22:39:04.918243Z",
     "start_time": "2023-03-31T22:39:04.869234Z"
    }
   },
   "outputs": [],
   "source": [
    "df2['vehicle_age'] = df2['vehicle_age'].apply( lambda x: 'over_2_years'     if x == '> 2 Years' else \n",
    "                                                         'between_1_2_year' if x == '1-2 Year'  else\n",
    "                                                         'below_1_year')"
   ]
  },
  {
   "cell_type": "markdown",
   "id": "3ddeb129",
   "metadata": {},
   "source": [
    "## 2.2. Vehicle Damage"
   ]
  },
  {
   "cell_type": "code",
   "execution_count": 17,
   "id": "f13ee4b6",
   "metadata": {
    "ExecuteTime": {
     "end_time": "2023-03-31T22:39:08.646052Z",
     "start_time": "2023-03-31T22:39:08.549781Z"
    }
   },
   "outputs": [],
   "source": [
    "df2['vehicle_damage'] = df2['vehicle_damage'].apply( lambda x: 1 if x == 'Yes' else 0 )"
   ]
  },
  {
   "cell_type": "code",
   "execution_count": 18,
   "id": "a803b18f",
   "metadata": {
    "ExecuteTime": {
     "end_time": "2023-03-31T22:39:09.874603Z",
     "start_time": "2023-03-31T22:39:09.544155Z"
    }
   },
   "outputs": [],
   "source": [
    "X = df2.drop( 'response', axis=1 )\n",
    "y = df2['response'].copy()\n",
    "\n",
    "# Split the dataset into REMAINING and TEST\n",
    "X_remaining, X_test, y_remaining, y_test = ms.train_test_split( X, y, test_size=0.10, stratify=y, shuffle=True )\n",
    "\n",
    "df_test = pd.concat( [X_test, y_test], axis=1 ) # test dataset\n",
    "\n",
    "# Split REMAINING into TRAIN and VALIDATION\n",
    "X_train, X_val, y_train, y_val = ms.train_test_split( X_remaining, y_remaining, test_size=0.222, stratify=y_remaining, shuffle=True )\n",
    "\n",
    "df2 = pd.concat( [X_train, y_train], axis=1 ) # train dataset\n",
    "\n",
    "df_val = pd.concat( [X_val, y_val], axis=1 ) # validation dataset"
   ]
  },
  {
   "cell_type": "code",
   "execution_count": 19,
   "id": "7634c699",
   "metadata": {
    "ExecuteTime": {
     "end_time": "2023-03-31T22:39:12.578446Z",
     "start_time": "2023-03-31T22:39:12.565443Z"
    }
   },
   "outputs": [
    {
     "name": "stdout",
     "output_type": "stream",
     "text": [
      "TRAIN      DATASET | Number of Rows: 266852, Number of Columns: 12\n",
      "VALIDATION DATASET | Number of Rows: 76146 , Number of Columns: 12\n",
      "TEST       DATASET | Number of Rows: 38111 , Number of Columns: 12\n",
      "\n",
      "Train     : 70.02 %\n",
      "Validation: 19.98 %\n",
      "Test      : 10.0  %\n"
     ]
    }
   ],
   "source": [
    "total = df2.shape[0] + df_val.shape[0] + df_test.shape[0]\n",
    "\n",
    "print( 'TRAIN      DATASET | Number of Rows: {}, Number of Columns: {}'.format( df2.shape[0], df2.shape[1] ) )\n",
    "print( 'VALIDATION DATASET | Number of Rows: {} , Number of Columns: {}'.format( df_val.shape[0], df_val.shape[1] ) )\n",
    "print( 'TEST       DATASET | Number of Rows: {} , Number of Columns: {}'.format( df_test.shape[0], df_test.shape[1] ) )\n",
    "\n",
    "print('''\\nTrain     : {} %\n",
    "Validation: {} %\n",
    "Test      : {}  %'''.format( round(100*df2.shape[0]/total,2), round(100*df_val.shape[0]/total,2), round(100*df_test.shape[0]/total,2) ) )"
   ]
  },
  {
   "cell_type": "code",
   "execution_count": 20,
   "id": "9dd40f21",
   "metadata": {
    "ExecuteTime": {
     "end_time": "2023-03-31T22:39:15.940986Z",
     "start_time": "2023-03-31T22:39:14.875743Z"
    }
   },
   "outputs": [],
   "source": [
    "# train \n",
    "df2.to_csv('dataset/df2.csv', index=False)\n",
    "\n",
    "# val\n",
    "df_val.to_csv('dataset/df_val.csv', index=False)\n",
    "\n",
    "# test\n",
    "df_test.to_csv('dataset/df_test.csv', index=False)"
   ]
  },
  {
   "cell_type": "code",
   "execution_count": null,
   "id": "e25f4ce1",
   "metadata": {},
   "outputs": [],
   "source": []
  }
 ],
 "metadata": {
  "kernelspec": {
   "display_name": "Python 3 (ipykernel)",
   "language": "python",
   "name": "python3"
  },
  "language_info": {
   "codemirror_mode": {
    "name": "ipython",
    "version": 3
   },
   "file_extension": ".py",
   "mimetype": "text/x-python",
   "name": "python",
   "nbconvert_exporter": "python",
   "pygments_lexer": "ipython3",
   "version": "3.9.12"
  },
  "latex_envs": {
   "LaTeX_envs_menu_present": true,
   "autoclose": false,
   "autocomplete": true,
   "bibliofile": "biblio.bib",
   "cite_by": "apalike",
   "current_citInitial": 1,
   "eqLabelWithNumbers": true,
   "eqNumInitial": 1,
   "hotkeys": {
    "equation": "Ctrl-E",
    "itemize": "Ctrl-I"
   },
   "labels_anchors": false,
   "latex_user_defs": false,
   "report_style_numbering": false,
   "user_envs_cfg": false
  },
  "varInspector": {
   "cols": {
    "lenName": 16,
    "lenType": 16,
    "lenVar": 40
   },
   "kernels_config": {
    "python": {
     "delete_cmd_postfix": "",
     "delete_cmd_prefix": "del ",
     "library": "var_list.py",
     "varRefreshCmd": "print(var_dic_list())"
    },
    "r": {
     "delete_cmd_postfix": ") ",
     "delete_cmd_prefix": "rm(",
     "library": "var_list.r",
     "varRefreshCmd": "cat(var_dic_list()) "
    }
   },
   "types_to_exclude": [
    "module",
    "function",
    "builtin_function_or_method",
    "instance",
    "_Feature"
   ],
   "window_display": false
  }
 },
 "nbformat": 4,
 "nbformat_minor": 5
}
